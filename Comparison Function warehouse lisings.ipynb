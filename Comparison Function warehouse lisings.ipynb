{
 "cells": [
  {
   "cell_type": "code",
   "execution_count": 1,
   "id": "3e2fda5f",
   "metadata": {},
   "outputs": [],
   "source": [
    "from pathlib import Path\n",
    "from os import path\n",
    "import datetime\n",
    "import glob\n",
    "import pandas as pd\n",
    "inv_folder = '../PriceScript_20220424/inventories'"
   ]
  },
  {
   "cell_type": "markdown",
   "id": "007853a8",
   "metadata": {},
   "source": [
    "# Comparison"
   ]
  },
  {
   "cell_type": "code",
   "execution_count": 2,
   "id": "98ca6423",
   "metadata": {},
   "outputs": [],
   "source": [
    "def comparison(df1, df2, merge_on, col):\n",
    "    delta=0.1\n",
    "        \n",
    "    print('NEW  Entries     : ',len(df1))\n",
    "    print('OLD  Entries     : ',len(df2))\n",
    "    \n",
    "    comp = df1.merge(right=df2, how='outer', on= merge_on, suffixes=('_new', '_old'))\n",
    "    comp['Category'] = pd.NA\n",
    "    comp.loc[comp[col + '_new'] - comp[col + '_old'] > delta , 'Category'] = 'Price Increased'\n",
    "    comp.loc[comp[col + '_old'] - comp[col + '_new'] > delta, 'Category'] = 'Price Decreased'\n",
    "    comp.loc[abs(comp[col + '_new'] - comp[col + '_old']) <= delta, 'Category'] = 'Same Price'\n",
    "    comp.loc[(~comp[col + '_new'].isna()) & (comp[col + '_old'].isna()), 'Category'] = 'Items Added'\n",
    "    comp.loc[(comp[col + '_new'].isna()) & (~comp[col + '_old'].isna()), 'Category'] = 'Items Removed'\n",
    "    \n",
    "    \n",
    "    print('Increase in Price: ', len(comp[comp[col + '_new'] > (comp[col + '_old'] +  delta)]))\n",
    "    print('Decrease in Price: ', len(comp[comp[col + '_new'] < (comp[col + '_old'] -  delta)]))\n",
    "    print('Same Price       : ', len(comp[abs(comp[col + '_new'] - comp[col + '_old']) <=  delta]))\n",
    "    print('Increase in Parts: ', len(comp[(~comp[col + '_new'].isna()) & (comp[col + '_old'].isna())]))\n",
    "    print('Decrease in Parts: ', len(comp[(comp[col + '_new'].isna()) & (~comp[col + '_old'].isna())]))\n",
    "    \n",
    "    detail = comp.loc[comp['Category'] != 'Same Price']\n",
    "    group = comp.groupby('Category')\n",
    "    Fcount = group[['Category']].count()\n",
    "    Fcount.rename(columns={'Category': 'Count'}, inplace=True)\n",
    "    Fcount.reset_index(inplace=True)\n",
    "    \n",
    "    return Fcount, detail"
   ]
  },
  {
   "cell_type": "markdown",
   "id": "187e791d",
   "metadata": {},
   "source": [
    " "
   ]
  },
  {
   "cell_type": "markdown",
   "id": "df3ed55c",
   "metadata": {},
   "source": [
    "# Date Extract"
   ]
  },
  {
   "cell_type": "code",
   "execution_count": 3,
   "id": "d02165bc",
   "metadata": {},
   "outputs": [],
   "source": [
    "def dateextract(f):\n",
    "    b= path.basename(f)\n",
    "    c= b.split('.')[0].split('_')[1]\n",
    "    d = datetime.datetime.strptime(c, \"%Y%m%d\").date()\n",
    "    return d"
   ]
  },
  {
   "cell_type": "markdown",
   "id": "f6cc39c9",
   "metadata": {},
   "source": [
    " "
   ]
  },
  {
   "cell_type": "markdown",
   "id": "6f83b7e0",
   "metadata": {},
   "source": [
    "# Read File and Add Date Extracted"
   ]
  },
  {
   "cell_type": "code",
   "execution_count": 4,
   "id": "5cd5f126",
   "metadata": {},
   "outputs": [],
   "source": [
    "def read_df(f, sep=',', encoding=None, encoding_errors='strict', escapechar=None):\n",
    "    df = pd.read_csv(f,sep=sep, encoding=encoding, encoding_errors=encoding_errors, escapechar=escapechar)\n",
    "    dt = dateextract(f)\n",
    "    df['Date'] = dt\n",
    "    return df"
   ]
  },
  {
   "cell_type": "markdown",
   "id": "c73e0336",
   "metadata": {},
   "source": [
    " "
   ]
  },
  {
   "cell_type": "markdown",
   "id": "d3e8902f",
   "metadata": {},
   "source": [
    "# Protocols for each warehouse\n"
   ]
  },
  {
   "cell_type": "markdown",
   "id": "08f687c9",
   "metadata": {},
   "source": [
    "### Brock"
   ]
  },
  {
   "cell_type": "code",
   "execution_count": 7,
   "id": "bb2f0962",
   "metadata": {},
   "outputs": [
    {
     "name": "stdout",
     "output_type": "stream",
     "text": [
      "NEW  Entries     :  11692\n",
      "OLD  Entries     :  11722\n",
      "Increase in Price:  0\n",
      "Decrease in Price:  0\n",
      "Same Price       :  11690\n",
      "Increase in Parts:  2\n",
      "Decrease in Parts:  32\n"
     ]
    }
   ],
   "source": [
    "df1=read_df(f'{inv_folder}/brock_20220807.csv')\n",
    "df2=read_df(f'{inv_folder}/brock_20220804.csv')\n",
    "merge_on= ['sku']\n",
    "col='prices'\n",
    "\n",
    "a,b = comparison(df1, df2, merge_on, col)\n",
    "a['Warehouse']= 'Brock'\n",
    "a['Latest Date']= df1.loc[0, 'Date']\n",
    "a['Previous Date']= df2.loc[0, 'Date']\n",
    "\n",
    "a.to_excel('results/brock_Summary.xlsx')\n",
    "b.to_excel('results/brock_Detail.xlsx')\n",
    "result=[a]"
   ]
  },
  {
   "cell_type": "markdown",
   "id": "365cc960",
   "metadata": {},
   "source": [
    " "
   ]
  },
  {
   "cell_type": "markdown",
   "id": "927e9be8",
   "metadata": {},
   "source": [
    "### Burco"
   ]
  },
  {
   "cell_type": "code",
   "execution_count": 8,
   "id": "0f1abc1f",
   "metadata": {},
   "outputs": [
    {
     "name": "stdout",
     "output_type": "stream",
     "text": [
      "NEW  Entries     :  4259\n",
      "OLD  Entries     :  4259\n",
      "Increase in Price:  0\n",
      "Decrease in Price:  0\n",
      "Same Price       :  4259\n",
      "Increase in Parts:  0\n",
      "Decrease in Parts:  0\n"
     ]
    }
   ],
   "source": [
    "df1=read_df(f'{inv_folder}/burco_20220608.csv')\n",
    "df2=read_df(f'{inv_folder}/burco_20220805.csv')\n",
    "merge_on= ['vendor_sku']\n",
    "col='Cost'\n",
    "\n",
    "a,b = comparison(df1, df2, merge_on, col)\n",
    "a['Warehouse']= 'Burco'\n",
    "a['Latest Date']= df1.loc[0, 'Date']\n",
    "a['Previous Date']= df2.loc[0, 'Date']\n",
    "\n",
    "a.to_excel('results/burco_Summary.xlsx')\n",
    "b.to_excel('results/burco_Detail.xlsx')\n",
    "result.append(a)"
   ]
  },
  {
   "cell_type": "markdown",
   "id": "9c856408",
   "metadata": {},
   "source": [
    " "
   ]
  },
  {
   "cell_type": "markdown",
   "id": "8695ffc2",
   "metadata": {},
   "source": [
    "### Jante"
   ]
  },
  {
   "cell_type": "code",
   "execution_count": 10,
   "id": "432fd1e1",
   "metadata": {},
   "outputs": [
    {
     "name": "stdout",
     "output_type": "stream",
     "text": [
      "NEW  Entries     :  6275\n",
      "OLD  Entries     :  6275\n",
      "Increase in Price:  0\n",
      "Decrease in Price:  0\n",
      "Same Price       :  6273\n",
      "Increase in Parts:  2\n",
      "Decrease in Parts:  0\n"
     ]
    }
   ],
   "source": [
    "df1=read_df(f'{inv_folder}/jante_20220807.csv')\n",
    "df2=read_df(f'{inv_folder}/jante_20220804.csv')\n",
    "merge_on= ['LC' , 'vendor_sku']\n",
    "col='Cost'\n",
    "\n",
    "a,b = comparison(df1, df2, merge_on, col)\n",
    "a['Warehouse']= 'Jante'\n",
    "a['Latest Date']= df1.loc[0, 'Date']\n",
    "a['Previous Date']= df2.loc[0, 'Date']\n",
    "\n",
    "a.to_excel('results/jante_Summary.xlsx')\n",
    "b.to_excel('results/jante_Detail.xlsx')\n",
    "result.append(a)"
   ]
  },
  {
   "cell_type": "markdown",
   "id": "a0055b2d",
   "metadata": {},
   "source": [
    " "
   ]
  },
  {
   "cell_type": "markdown",
   "id": "58533e8a",
   "metadata": {},
   "source": [
    "### Keystone"
   ]
  },
  {
   "cell_type": "code",
   "execution_count": 11,
   "id": "b7b0f985",
   "metadata": {},
   "outputs": [
    {
     "name": "stdout",
     "output_type": "stream",
     "text": [
      "NEW  Entries     :  159263\n",
      "OLD  Entries     :  159463\n",
      "Increase in Price:  1072\n",
      "Decrease in Price:  840\n",
      "Same Price       :  157049\n",
      "Increase in Parts:  292\n",
      "Decrease in Parts:  492\n"
     ]
    }
   ],
   "source": [
    "df1=read_df(f'{inv_folder}/keystone_20220808.csv')\n",
    "df2=read_df(f'{inv_folder}/keystone_20220804.csv')\n",
    "merge_on= ['VCPN']\n",
    "col='Cost'\n",
    "\n",
    "a,b = comparison(df1, df2, merge_on, col)\n",
    "a['Warehouse']= 'Keystone'\n",
    "a['Latest Date']= df1.loc[0, 'Date']\n",
    "a['Previous Date']= df2.loc[0, 'Date']\n",
    "\n",
    "a.to_excel('results/Keystone_Summary.xlsx')\n",
    "b.to_excel('results/Keystone_Detail.xlsx')\n",
    "result.append(a)"
   ]
  },
  {
   "cell_type": "markdown",
   "id": "7b974029",
   "metadata": {},
   "source": [
    " "
   ]
  },
  {
   "cell_type": "markdown",
   "id": "c03e8842",
   "metadata": {},
   "source": [
    "### Motorstate"
   ]
  },
  {
   "cell_type": "code",
   "execution_count": 13,
   "id": "eab4a095",
   "metadata": {
    "scrolled": true
   },
   "outputs": [
    {
     "name": "stdout",
     "output_type": "stream",
     "text": [
      "NEW  Entries     :  107499\n",
      "OLD  Entries     :  107532\n",
      "Increase in Price:  491\n",
      "Decrease in Price:  625\n",
      "Same Price       :  106219\n",
      "Increase in Parts:  164\n",
      "Decrease in Parts:  197\n"
     ]
    }
   ],
   "source": [
    "df1=read_df(f'{inv_folder}/motorstate_20220807.csv')\n",
    "df2=read_df(f'{inv_folder}/motorstate_20220803.csv')\n",
    "merge_on= ['Brand' , 'PartNumber']\n",
    "col='Cost'\n",
    "\n",
    "a,b = comparison(df1, df2, merge_on, col)\n",
    "a['Warehouse']= 'Motorstate'\n",
    "a['Latest Date']= df1.loc[0, 'Date']\n",
    "a['Previous Date']= df2.loc[0, 'Date']\n",
    "\n",
    "a.to_excel('results/motorstate_Summary.xlsx')\n",
    "b.to_excel('results/motorstate_Detail.xlsx')\n",
    "result.append(a)"
   ]
  },
  {
   "cell_type": "markdown",
   "id": "f2007e47",
   "metadata": {},
   "source": [
    " "
   ]
  },
  {
   "cell_type": "markdown",
   "id": "c47ba1ee",
   "metadata": {},
   "source": [
    "### NPW"
   ]
  },
  {
   "cell_type": "code",
   "execution_count": 14,
   "id": "2ebaf573",
   "metadata": {},
   "outputs": [
    {
     "name": "stdout",
     "output_type": "stream",
     "text": [
      "NEW  Entries     :  310652\n",
      "OLD  Entries     :  383647\n",
      "Increase in Price:  26\n",
      "Decrease in Price:  32\n",
      "Same Price       :  310279\n",
      "Increase in Parts:  315\n",
      "Decrease in Parts:  73310\n"
     ]
    }
   ],
   "source": [
    "df1=read_df(f'{inv_folder}/npw_20220808.csv')\n",
    "df2=read_df(f'{inv_folder}/npw_20220804.csv')\n",
    "merge_on= ['LineCode' , 'PartN']\n",
    "col='Cost'\n",
    "\n",
    "a,b = comparison(df1, df2, merge_on, col)\n",
    "a['Warehouse']= 'NPW'\n",
    "a['Latest Date']= df1.loc[0, 'Date']\n",
    "a['Previous Date']= df2.loc[0, 'Date']\n",
    "\n",
    "a.to_excel('results/npw_Summary.xlsx')\n",
    "b.to_excel('results/npw_Detail.xlsx')\n",
    "result.append(a)"
   ]
  },
  {
   "cell_type": "markdown",
   "id": "ba38a802",
   "metadata": {},
   "source": [
    " "
   ]
  },
  {
   "cell_type": "markdown",
   "id": "9e55ca4c",
   "metadata": {},
   "source": [
    "### PA"
   ]
  },
  {
   "cell_type": "code",
   "execution_count": 15,
   "id": "22a07fd3",
   "metadata": {},
   "outputs": [
    {
     "name": "stdout",
     "output_type": "stream",
     "text": [
      "NEW  Entries     :  524100\n",
      "OLD  Entries     :  525098\n",
      "Increase in Price:  308\n",
      "Decrease in Price:  849\n",
      "Same Price       :  519760\n",
      "Increase in Parts:  3182\n",
      "Decrease in Parts:  4180\n"
     ]
    }
   ],
   "source": [
    "df1=read_df(f'{inv_folder}/pa_20220808.csv', encoding='unicode_escape')\n",
    "df2=read_df(f'{inv_folder}/pa_20220805.csv', encoding='unicode_escape')\n",
    "merge_on= ['Line' , 'Part']\n",
    "col='Price'\n",
    "\n",
    "a,b = comparison(df1, df2, merge_on, col)\n",
    "a['Warehouse']= 'PA'\n",
    "a['Latest Date']= df1.loc[0, 'Date']\n",
    "a['Previous Date']= df2.loc[0, 'Date']\n",
    "\n",
    "a.to_excel('results/pa_Summary.xlsx')\n",
    "b.to_excel('results/pa_Detail.xlsx')\n",
    "result.append(a)"
   ]
  },
  {
   "cell_type": "markdown",
   "id": "7a454074",
   "metadata": {},
   "source": [
    " "
   ]
  },
  {
   "cell_type": "markdown",
   "id": "2b48895b",
   "metadata": {},
   "source": [
    "### PFG"
   ]
  },
  {
   "cell_type": "code",
   "execution_count": 16,
   "id": "e76ddbe7",
   "metadata": {},
   "outputs": [
    {
     "name": "stdout",
     "output_type": "stream",
     "text": [
      "NEW  Entries     :  82896\n",
      "OLD  Entries     :  82901\n",
      "Increase in Price:  0\n",
      "Decrease in Price:  0\n",
      "Same Price       :  82851\n",
      "Increase in Parts:  45\n",
      "Decrease in Parts:  50\n"
     ]
    }
   ],
   "source": [
    "df1=read_df(f'{inv_folder}/pfg_20220808.txt', sep='\\t', escapechar = '\\\\', encoding_errors='ignore')\n",
    "df2=read_df(f'{inv_folder}/pfg_20220805.txt', sep='\\t', escapechar = '\\\\', encoding_errors='ignore')\n",
    "merge_on = ['SKU', 'BRAND']\n",
    "col='COST'\n",
    "\n",
    "a,b = comparison(df1, df2, merge_on, col)\n",
    "a['Warehouse']= 'PFG'\n",
    "a['Latest Date']= df1.loc[0, 'Date']\n",
    "a['Previous Date']= df2.loc[0, 'Date']\n",
    "\n",
    "a.to_excel('results/pfg_Summary.xlsx')\n",
    "b.to_excel('results/pfg_Detail.xlsx')\n",
    "result.append(a)"
   ]
  },
  {
   "cell_type": "markdown",
   "id": "ea44052b",
   "metadata": {},
   "source": [
    " "
   ]
  },
  {
   "cell_type": "markdown",
   "id": "5bb8c318",
   "metadata": {},
   "source": [
    "### RSL"
   ]
  },
  {
   "cell_type": "code",
   "execution_count": 17,
   "id": "2c24e378",
   "metadata": {},
   "outputs": [
    {
     "name": "stdout",
     "output_type": "stream",
     "text": [
      "NEW  Entries     :  5592\n",
      "OLD  Entries     :  5592\n",
      "Increase in Price:  0\n",
      "Decrease in Price:  0\n",
      "Same Price       :  5593\n",
      "Increase in Parts:  0\n",
      "Decrease in Parts:  0\n"
     ]
    }
   ],
   "source": [
    "df1=read_df(f'{inv_folder}/rsl_20220807.csv')\n",
    "df2=read_df(f'{inv_folder}/rsl_20220804.csv')\n",
    "merge_on= ['SKU', 'Brand']\n",
    "col='BSAP Cost'\n",
    "\n",
    "a,b = comparison(df1, df2, merge_on, col)\n",
    "a['Warehouse']= 'RSL'\n",
    "a['Latest Date']= df1.loc[0, 'Date']\n",
    "a['Previous Date']= df2.loc[0, 'Date']\n",
    "\n",
    "a.to_excel('results/rsl_Summary.xlsx')\n",
    "b.to_excel('results/rsl_Detail.xlsx')\n",
    "result.append(a)"
   ]
  },
  {
   "cell_type": "markdown",
   "id": "11350f9d",
   "metadata": {},
   "source": [
    " "
   ]
  },
  {
   "cell_type": "markdown",
   "id": "5e1b91d1",
   "metadata": {},
   "source": [
    "### Sunbelt"
   ]
  },
  {
   "cell_type": "code",
   "execution_count": null,
   "id": "e563e2a3",
   "metadata": {},
   "outputs": [],
   "source": [
    "df1=read_df(f'{inv_folder}/sunbelt_20220601.csv')\n",
    "df2=read_df(f'{inv_folder}/sunbelt_20220531.csv')\n",
    "merge_on= ['SKU']\n",
    "col='Price'\n",
    "\n",
    "a,b = comparison(df1, df2, merge_on, col)\n",
    "a['Warehouse']= 'SUNBELT'\n",
    "a['Latest Date']= df1.loc[0, 'Date']\n",
    "a['Previous Date']= df2.loc[0, 'Date']\n",
    "\n",
    "a.to_excel('results/sunbelt_Summary.xlsx')\n",
    "b.to_excel('results/sunbelt_Detail.xlsx')\n",
    "result.append(a)"
   ]
  },
  {
   "cell_type": "markdown",
   "id": "37fb143c",
   "metadata": {},
   "source": [
    "### Simple Tire"
   ]
  },
  {
   "cell_type": "code",
   "execution_count": 19,
   "id": "9d223ab1",
   "metadata": {},
   "outputs": [
    {
     "name": "stdout",
     "output_type": "stream",
     "text": [
      "NEW  Entries     :  43827\n",
      "OLD  Entries     :  43927\n",
      "Increase in Price:  5871\n",
      "Decrease in Price:  4596\n",
      "Same Price       :  33119\n",
      "Increase in Parts:  240\n",
      "Decrease in Parts:  340\n"
     ]
    }
   ],
   "source": [
    "### Simple Tire\n",
    "df1=read_df(f'{inv_folder}/simpletire_20220807.csv')\n",
    "df2=read_df(f'{inv_folder}/simpletire_20220804.csv')\n",
    "merge_on= ['Product ID']\n",
    "col='Price'\n",
    "\n",
    "a,b = comparison(df1, df2, merge_on, col)\n",
    "a['Warehouse']= 'SIMPLE TIRE'\n",
    "a['Latest Date']= df1.loc[0, 'Date']\n",
    "a['Previous Date']= df2.loc[0, 'Date']\n",
    "\n",
    "a.to_excel('results/simpletire_Summary.xlsx')\n",
    "b.to_excel('results/simpletire_Detail.xlsx')\n",
    "result.append(a)"
   ]
  },
  {
   "cell_type": "markdown",
   "id": "49d3c54b",
   "metadata": {},
   "source": [
    " "
   ]
  },
  {
   "cell_type": "markdown",
   "id": "ae57ca9c",
   "metadata": {},
   "source": [
    "### Dorman"
   ]
  },
  {
   "cell_type": "code",
   "execution_count": 20,
   "id": "3e637125",
   "metadata": {},
   "outputs": [
    {
     "name": "stdout",
     "output_type": "stream",
     "text": [
      "NEW  Entries     :  80119\n",
      "OLD  Entries     :  80041\n",
      "Increase in Price:  0\n",
      "Decrease in Price:  0\n",
      "Same Price       :  80041\n",
      "Increase in Parts:  78\n",
      "Decrease in Parts:  0\n"
     ]
    }
   ],
   "source": [
    "df1=read_df(f'{inv_folder}/dorman_20220807.csv')\n",
    "df2=read_df(f'{inv_folder}/dorman_20220804.csv')\n",
    "merge_on= ['599-610']\n",
    "\n",
    "df1['Price']=  0\n",
    "df2['Price']=  0\n",
    "col= 'Price'\n",
    "\n",
    "a,b = comparison(df1, df2, merge_on, col)\n",
    "a['Warehouse']= 'DORMAN'\n",
    "a['Latest Date']= df1.loc[0, 'Date']\n",
    "a['Previous Date']= df2.loc[0, 'Date']\n",
    "\n",
    "a.to_excel('results/dorman_Summary.xlsx')\n",
    "b.to_excel('results/dorman_Detail.xlsx')\n",
    "result.append(a)"
   ]
  },
  {
   "cell_type": "markdown",
   "id": "843c11b1",
   "metadata": {},
   "source": [
    " "
   ]
  },
  {
   "cell_type": "markdown",
   "id": "b62010dc",
   "metadata": {},
   "source": [
    "### OE Wheels"
   ]
  },
  {
   "cell_type": "code",
   "execution_count": 21,
   "id": "7100aefc",
   "metadata": {},
   "outputs": [
    {
     "name": "stdout",
     "output_type": "stream",
     "text": [
      "NEW  Entries     :  766\n",
      "OLD  Entries     :  766\n",
      "Increase in Price:  0\n",
      "Decrease in Price:  0\n",
      "Same Price       :  766\n",
      "Increase in Parts:  0\n",
      "Decrease in Parts:  0\n"
     ]
    }
   ],
   "source": [
    "df1=read_df(f'{inv_folder}/oe_20220807.csv')\n",
    "df2=read_df(f'{inv_folder}/oe_20220804.csv')\n",
    "merge_on= ['UPC']\n",
    "\n",
    "df1['Price']=  0\n",
    "df2['Price']=  0\n",
    "col= 'Price'\n",
    "\n",
    "a,b = comparison(df1, df2, merge_on, col)\n",
    "a['Warehouse']= 'OE WHEELS'\n",
    "a['Latest Date']= df1.loc[0, 'Date']\n",
    "a['Previous Date']= df2.loc[0, 'Date']\n",
    "\n",
    "a.to_excel('results/oe_Summary.xlsx')\n",
    "b.to_excel('results/oe_Detail.xlsx')\n",
    "result.append(a)"
   ]
  },
  {
   "cell_type": "markdown",
   "id": "414a14da",
   "metadata": {},
   "source": [
    "  "
   ]
  },
  {
   "cell_type": "markdown",
   "id": "78e40955",
   "metadata": {},
   "source": [
    "# Result:"
   ]
  },
  {
   "cell_type": "code",
   "execution_count": 23,
   "id": "f5c640b8",
   "metadata": {},
   "outputs": [
    {
     "data": {
      "text/html": [
       "<div>\n",
       "<style scoped>\n",
       "    .dataframe tbody tr th:only-of-type {\n",
       "        vertical-align: middle;\n",
       "    }\n",
       "\n",
       "    .dataframe tbody tr th {\n",
       "        vertical-align: top;\n",
       "    }\n",
       "\n",
       "    .dataframe thead th {\n",
       "        text-align: right;\n",
       "    }\n",
       "</style>\n",
       "<table border=\"1\" class=\"dataframe\">\n",
       "  <thead>\n",
       "    <tr style=\"text-align: right;\">\n",
       "      <th></th>\n",
       "      <th>Category</th>\n",
       "      <th>Count</th>\n",
       "      <th>Warehouse</th>\n",
       "      <th>Latest Date</th>\n",
       "      <th>Previous Date</th>\n",
       "    </tr>\n",
       "  </thead>\n",
       "  <tbody>\n",
       "    <tr>\n",
       "      <th>0</th>\n",
       "      <td>Items Added</td>\n",
       "      <td>2</td>\n",
       "      <td>Brock</td>\n",
       "      <td>2022-08-07</td>\n",
       "      <td>2022-08-04</td>\n",
       "    </tr>\n",
       "    <tr>\n",
       "      <th>1</th>\n",
       "      <td>Items Removed</td>\n",
       "      <td>32</td>\n",
       "      <td>Brock</td>\n",
       "      <td>2022-08-07</td>\n",
       "      <td>2022-08-04</td>\n",
       "    </tr>\n",
       "    <tr>\n",
       "      <th>2</th>\n",
       "      <td>Same Price</td>\n",
       "      <td>11690</td>\n",
       "      <td>Brock</td>\n",
       "      <td>2022-08-07</td>\n",
       "      <td>2022-08-04</td>\n",
       "    </tr>\n",
       "    <tr>\n",
       "      <th>3</th>\n",
       "      <td>Same Price</td>\n",
       "      <td>4259</td>\n",
       "      <td>Burco</td>\n",
       "      <td>2022-06-08</td>\n",
       "      <td>2022-08-05</td>\n",
       "    </tr>\n",
       "    <tr>\n",
       "      <th>4</th>\n",
       "      <td>Items Added</td>\n",
       "      <td>2</td>\n",
       "      <td>Jante</td>\n",
       "      <td>2022-08-07</td>\n",
       "      <td>2022-08-04</td>\n",
       "    </tr>\n",
       "    <tr>\n",
       "      <th>5</th>\n",
       "      <td>Same Price</td>\n",
       "      <td>6273</td>\n",
       "      <td>Jante</td>\n",
       "      <td>2022-08-07</td>\n",
       "      <td>2022-08-04</td>\n",
       "    </tr>\n",
       "    <tr>\n",
       "      <th>6</th>\n",
       "      <td>Items Added</td>\n",
       "      <td>292</td>\n",
       "      <td>Keystone</td>\n",
       "      <td>2022-08-08</td>\n",
       "      <td>2022-08-04</td>\n",
       "    </tr>\n",
       "    <tr>\n",
       "      <th>7</th>\n",
       "      <td>Items Removed</td>\n",
       "      <td>492</td>\n",
       "      <td>Keystone</td>\n",
       "      <td>2022-08-08</td>\n",
       "      <td>2022-08-04</td>\n",
       "    </tr>\n",
       "    <tr>\n",
       "      <th>8</th>\n",
       "      <td>Price Decreased</td>\n",
       "      <td>840</td>\n",
       "      <td>Keystone</td>\n",
       "      <td>2022-08-08</td>\n",
       "      <td>2022-08-04</td>\n",
       "    </tr>\n",
       "    <tr>\n",
       "      <th>9</th>\n",
       "      <td>Price Increased</td>\n",
       "      <td>1082</td>\n",
       "      <td>Keystone</td>\n",
       "      <td>2022-08-08</td>\n",
       "      <td>2022-08-04</td>\n",
       "    </tr>\n",
       "    <tr>\n",
       "      <th>10</th>\n",
       "      <td>Same Price</td>\n",
       "      <td>157049</td>\n",
       "      <td>Keystone</td>\n",
       "      <td>2022-08-08</td>\n",
       "      <td>2022-08-04</td>\n",
       "    </tr>\n",
       "    <tr>\n",
       "      <th>11</th>\n",
       "      <td>Items Added</td>\n",
       "      <td>164</td>\n",
       "      <td>Motorstate</td>\n",
       "      <td>2022-08-07</td>\n",
       "      <td>2022-08-03</td>\n",
       "    </tr>\n",
       "    <tr>\n",
       "      <th>12</th>\n",
       "      <td>Items Removed</td>\n",
       "      <td>197</td>\n",
       "      <td>Motorstate</td>\n",
       "      <td>2022-08-07</td>\n",
       "      <td>2022-08-03</td>\n",
       "    </tr>\n",
       "    <tr>\n",
       "      <th>13</th>\n",
       "      <td>Price Decreased</td>\n",
       "      <td>625</td>\n",
       "      <td>Motorstate</td>\n",
       "      <td>2022-08-07</td>\n",
       "      <td>2022-08-03</td>\n",
       "    </tr>\n",
       "    <tr>\n",
       "      <th>14</th>\n",
       "      <td>Price Increased</td>\n",
       "      <td>491</td>\n",
       "      <td>Motorstate</td>\n",
       "      <td>2022-08-07</td>\n",
       "      <td>2022-08-03</td>\n",
       "    </tr>\n",
       "    <tr>\n",
       "      <th>15</th>\n",
       "      <td>Same Price</td>\n",
       "      <td>106219</td>\n",
       "      <td>Motorstate</td>\n",
       "      <td>2022-08-07</td>\n",
       "      <td>2022-08-03</td>\n",
       "    </tr>\n",
       "    <tr>\n",
       "      <th>16</th>\n",
       "      <td>Items Added</td>\n",
       "      <td>315</td>\n",
       "      <td>NPW</td>\n",
       "      <td>2022-08-08</td>\n",
       "      <td>2022-08-04</td>\n",
       "    </tr>\n",
       "    <tr>\n",
       "      <th>17</th>\n",
       "      <td>Items Removed</td>\n",
       "      <td>73310</td>\n",
       "      <td>NPW</td>\n",
       "      <td>2022-08-08</td>\n",
       "      <td>2022-08-04</td>\n",
       "    </tr>\n",
       "    <tr>\n",
       "      <th>18</th>\n",
       "      <td>Price Decreased</td>\n",
       "      <td>32</td>\n",
       "      <td>NPW</td>\n",
       "      <td>2022-08-08</td>\n",
       "      <td>2022-08-04</td>\n",
       "    </tr>\n",
       "    <tr>\n",
       "      <th>19</th>\n",
       "      <td>Price Increased</td>\n",
       "      <td>26</td>\n",
       "      <td>NPW</td>\n",
       "      <td>2022-08-08</td>\n",
       "      <td>2022-08-04</td>\n",
       "    </tr>\n",
       "    <tr>\n",
       "      <th>20</th>\n",
       "      <td>Same Price</td>\n",
       "      <td>310279</td>\n",
       "      <td>NPW</td>\n",
       "      <td>2022-08-08</td>\n",
       "      <td>2022-08-04</td>\n",
       "    </tr>\n",
       "    <tr>\n",
       "      <th>21</th>\n",
       "      <td>Items Added</td>\n",
       "      <td>3182</td>\n",
       "      <td>PA</td>\n",
       "      <td>2022-08-08</td>\n",
       "      <td>2022-08-05</td>\n",
       "    </tr>\n",
       "    <tr>\n",
       "      <th>22</th>\n",
       "      <td>Items Removed</td>\n",
       "      <td>4180</td>\n",
       "      <td>PA</td>\n",
       "      <td>2022-08-08</td>\n",
       "      <td>2022-08-05</td>\n",
       "    </tr>\n",
       "    <tr>\n",
       "      <th>23</th>\n",
       "      <td>Price Decreased</td>\n",
       "      <td>849</td>\n",
       "      <td>PA</td>\n",
       "      <td>2022-08-08</td>\n",
       "      <td>2022-08-05</td>\n",
       "    </tr>\n",
       "    <tr>\n",
       "      <th>24</th>\n",
       "      <td>Price Increased</td>\n",
       "      <td>309</td>\n",
       "      <td>PA</td>\n",
       "      <td>2022-08-08</td>\n",
       "      <td>2022-08-05</td>\n",
       "    </tr>\n",
       "    <tr>\n",
       "      <th>25</th>\n",
       "      <td>Same Price</td>\n",
       "      <td>519760</td>\n",
       "      <td>PA</td>\n",
       "      <td>2022-08-08</td>\n",
       "      <td>2022-08-05</td>\n",
       "    </tr>\n",
       "    <tr>\n",
       "      <th>26</th>\n",
       "      <td>Items Added</td>\n",
       "      <td>45</td>\n",
       "      <td>PFG</td>\n",
       "      <td>2022-08-08</td>\n",
       "      <td>2022-08-05</td>\n",
       "    </tr>\n",
       "    <tr>\n",
       "      <th>27</th>\n",
       "      <td>Items Removed</td>\n",
       "      <td>50</td>\n",
       "      <td>PFG</td>\n",
       "      <td>2022-08-08</td>\n",
       "      <td>2022-08-05</td>\n",
       "    </tr>\n",
       "    <tr>\n",
       "      <th>28</th>\n",
       "      <td>Same Price</td>\n",
       "      <td>82851</td>\n",
       "      <td>PFG</td>\n",
       "      <td>2022-08-08</td>\n",
       "      <td>2022-08-05</td>\n",
       "    </tr>\n",
       "    <tr>\n",
       "      <th>29</th>\n",
       "      <td>Same Price</td>\n",
       "      <td>5593</td>\n",
       "      <td>RSL</td>\n",
       "      <td>2022-08-07</td>\n",
       "      <td>2022-08-04</td>\n",
       "    </tr>\n",
       "    <tr>\n",
       "      <th>30</th>\n",
       "      <td>Items Added</td>\n",
       "      <td>240</td>\n",
       "      <td>SIMPLE TIRE</td>\n",
       "      <td>2022-08-07</td>\n",
       "      <td>2022-08-04</td>\n",
       "    </tr>\n",
       "    <tr>\n",
       "      <th>31</th>\n",
       "      <td>Items Removed</td>\n",
       "      <td>340</td>\n",
       "      <td>SIMPLE TIRE</td>\n",
       "      <td>2022-08-07</td>\n",
       "      <td>2022-08-04</td>\n",
       "    </tr>\n",
       "    <tr>\n",
       "      <th>32</th>\n",
       "      <td>Price Decreased</td>\n",
       "      <td>4596</td>\n",
       "      <td>SIMPLE TIRE</td>\n",
       "      <td>2022-08-07</td>\n",
       "      <td>2022-08-04</td>\n",
       "    </tr>\n",
       "    <tr>\n",
       "      <th>33</th>\n",
       "      <td>Price Increased</td>\n",
       "      <td>5872</td>\n",
       "      <td>SIMPLE TIRE</td>\n",
       "      <td>2022-08-07</td>\n",
       "      <td>2022-08-04</td>\n",
       "    </tr>\n",
       "    <tr>\n",
       "      <th>34</th>\n",
       "      <td>Same Price</td>\n",
       "      <td>33119</td>\n",
       "      <td>SIMPLE TIRE</td>\n",
       "      <td>2022-08-07</td>\n",
       "      <td>2022-08-04</td>\n",
       "    </tr>\n",
       "    <tr>\n",
       "      <th>35</th>\n",
       "      <td>Items Added</td>\n",
       "      <td>78</td>\n",
       "      <td>DORMAN</td>\n",
       "      <td>2022-08-07</td>\n",
       "      <td>2022-08-04</td>\n",
       "    </tr>\n",
       "    <tr>\n",
       "      <th>36</th>\n",
       "      <td>Same Price</td>\n",
       "      <td>80041</td>\n",
       "      <td>DORMAN</td>\n",
       "      <td>2022-08-07</td>\n",
       "      <td>2022-08-04</td>\n",
       "    </tr>\n",
       "    <tr>\n",
       "      <th>37</th>\n",
       "      <td>Same Price</td>\n",
       "      <td>766</td>\n",
       "      <td>OE WHEELS</td>\n",
       "      <td>2022-08-07</td>\n",
       "      <td>2022-08-04</td>\n",
       "    </tr>\n",
       "  </tbody>\n",
       "</table>\n",
       "</div>"
      ],
      "text/plain": [
       "           Category   Count    Warehouse Latest Date Previous Date\n",
       "0       Items Added       2        Brock  2022-08-07    2022-08-04\n",
       "1     Items Removed      32        Brock  2022-08-07    2022-08-04\n",
       "2        Same Price   11690        Brock  2022-08-07    2022-08-04\n",
       "3        Same Price    4259        Burco  2022-06-08    2022-08-05\n",
       "4       Items Added       2        Jante  2022-08-07    2022-08-04\n",
       "5        Same Price    6273        Jante  2022-08-07    2022-08-04\n",
       "6       Items Added     292     Keystone  2022-08-08    2022-08-04\n",
       "7     Items Removed     492     Keystone  2022-08-08    2022-08-04\n",
       "8   Price Decreased     840     Keystone  2022-08-08    2022-08-04\n",
       "9   Price Increased    1082     Keystone  2022-08-08    2022-08-04\n",
       "10       Same Price  157049     Keystone  2022-08-08    2022-08-04\n",
       "11      Items Added     164   Motorstate  2022-08-07    2022-08-03\n",
       "12    Items Removed     197   Motorstate  2022-08-07    2022-08-03\n",
       "13  Price Decreased     625   Motorstate  2022-08-07    2022-08-03\n",
       "14  Price Increased     491   Motorstate  2022-08-07    2022-08-03\n",
       "15       Same Price  106219   Motorstate  2022-08-07    2022-08-03\n",
       "16      Items Added     315          NPW  2022-08-08    2022-08-04\n",
       "17    Items Removed   73310          NPW  2022-08-08    2022-08-04\n",
       "18  Price Decreased      32          NPW  2022-08-08    2022-08-04\n",
       "19  Price Increased      26          NPW  2022-08-08    2022-08-04\n",
       "20       Same Price  310279          NPW  2022-08-08    2022-08-04\n",
       "21      Items Added    3182           PA  2022-08-08    2022-08-05\n",
       "22    Items Removed    4180           PA  2022-08-08    2022-08-05\n",
       "23  Price Decreased     849           PA  2022-08-08    2022-08-05\n",
       "24  Price Increased     309           PA  2022-08-08    2022-08-05\n",
       "25       Same Price  519760           PA  2022-08-08    2022-08-05\n",
       "26      Items Added      45          PFG  2022-08-08    2022-08-05\n",
       "27    Items Removed      50          PFG  2022-08-08    2022-08-05\n",
       "28       Same Price   82851          PFG  2022-08-08    2022-08-05\n",
       "29       Same Price    5593          RSL  2022-08-07    2022-08-04\n",
       "30      Items Added     240  SIMPLE TIRE  2022-08-07    2022-08-04\n",
       "31    Items Removed     340  SIMPLE TIRE  2022-08-07    2022-08-04\n",
       "32  Price Decreased    4596  SIMPLE TIRE  2022-08-07    2022-08-04\n",
       "33  Price Increased    5872  SIMPLE TIRE  2022-08-07    2022-08-04\n",
       "34       Same Price   33119  SIMPLE TIRE  2022-08-07    2022-08-04\n",
       "35      Items Added      78       DORMAN  2022-08-07    2022-08-04\n",
       "36       Same Price   80041       DORMAN  2022-08-07    2022-08-04\n",
       "37       Same Price     766    OE WHEELS  2022-08-07    2022-08-04"
      ]
     },
     "execution_count": 23,
     "metadata": {},
     "output_type": "execute_result"
    }
   ],
   "source": [
    "r = pd.concat(result, ignore_index=True)\n",
    "r.to_excel('Inventory Summary_testing.xlsx', index=False)\n",
    "r"
   ]
  },
  {
   "cell_type": "markdown",
   "id": "d6e6446b",
   "metadata": {},
   "source": [
    " "
   ]
  },
  {
   "cell_type": "markdown",
   "id": "3281b0ab",
   "metadata": {},
   "source": [
    " "
   ]
  },
  {
   "cell_type": "markdown",
   "id": "3880ad94",
   "metadata": {},
   "source": [
    " "
   ]
  }
 ],
 "metadata": {
  "kernelspec": {
   "display_name": "Python 3 (ipykernel)",
   "language": "python",
   "name": "python3"
  },
  "language_info": {
   "codemirror_mode": {
    "name": "ipython",
    "version": 3
   },
   "file_extension": ".py",
   "mimetype": "text/x-python",
   "name": "python",
   "nbconvert_exporter": "python",
   "pygments_lexer": "ipython3",
   "version": "3.10.2"
  },
  "vscode": {
   "interpreter": {
    "hash": "f21a06f75e525e2662a03ae3e2435a01b6183e1e86786d9c9445ac9b14506fc6"
   }
  }
 },
 "nbformat": 4,
 "nbformat_minor": 5
}
